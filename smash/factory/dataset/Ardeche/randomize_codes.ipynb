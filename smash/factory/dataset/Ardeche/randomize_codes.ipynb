{
 "cells": [
  {
   "cell_type": "code",
   "execution_count": 5,
   "metadata": {},
   "outputs": [],
   "source": [
    "import pandas as pd\n",
    "import numpy as np\n",
    "\n",
    "cal_code = pd.read_csv('/home/mettalbi/projects/smash-maintenance-1.0.x/smash/factory/dataset/Ardeche/cal_code.csv')\n",
    "val_code = pd.read_csv('/home/mettalbi/projects/smash-maintenance-1.0.x/smash/factory/dataset/Ardeche/val_code.csv')\n",
    "\n",
    "\n",
    "all_codes = np.append(cal_code.cal.values, val_code.val.values)\n",
    "\n",
    "np.random.shuffle(all_codes)\n",
    "\n",
    "new_cal_code = pd.DataFrame( all_codes[:15], columns=['cal'])\n",
    "new_val_code = pd.DataFrame( all_codes[15:], columns=['val'])\n",
    "\n",
    "new_cal_code.to_csv('/home/mettalbi/projects/smash-maintenance-1.0.x/smash/factory/dataset/Ardeche/cal_code_2.csv', index=False)\n",
    "new_val_code.to_csv('/home/mettalbi/projects/smash-maintenance-1.0.x/smash/factory/dataset/Ardeche/val_code_2.csv', index=False)"
   ]
  },
  {
   "cell_type": "code",
   "execution_count": 11,
   "metadata": {},
   "outputs": [],
   "source": [
    "import pandas as pd\n",
    "import numpy as np\n",
    "\n",
    "cal_code = pd.read_csv('/home/mettalbi/projects/smash-maintenance-1.0.x/smash/factory/dataset/Ardeche/cal_code.csv')\n",
    "val_code = pd.read_csv('/home/mettalbi/projects/smash-maintenance-1.0.x/smash/factory/dataset/Ardeche/val_code.csv')\n",
    "\n",
    "\n",
    "all_codes = np.append(cal_code.cal.values, val_code.val.values)\n",
    "\n",
    "ungauged_codes = ['K0114020', 'K0243010', 'K0258010', 'V4145210', 'K0214010']\n",
    "gauged_codes = all_codes[~np.isin(all_codes, ungauged_codes)]\n",
    "\n",
    "new_val_code = pd.DataFrame( ungauged_codes, columns=['val'])\n",
    "new_cal_code = pd.DataFrame( gauged_codes, columns=['cal'])\n",
    "\n",
    "new_cal_code.to_csv('/home/mettalbi/projects/smash-maintenance-1.0.x/smash/factory/dataset/Ardeche/cal_code_real_ungauged.csv', index=False)\n",
    "new_val_code.to_csv('/home/mettalbi/projects/smash-maintenance-1.0.x/smash/factory/dataset/Ardeche/val_code_real_ungauged.csv', index=False)"
   ]
  },
  {
   "cell_type": "code",
   "execution_count": 1,
   "metadata": {},
   "outputs": [
    {
     "name": "stderr",
     "output_type": "stream",
     "text": [
      "/tmp/ipykernel_123935/563888072.py:1: DeprecationWarning: \n",
      "Pyarrow will become a required dependency of pandas in the next major release of pandas (pandas 3.0),\n",
      "(to allow more performant data types, such as the Arrow string type, and better interoperability with other libraries)\n",
      "but was not found to be installed on your system.\n",
      "If this would cause problems for you,\n",
      "please provide us feedback at https://github.com/pandas-dev/pandas/issues/54466\n",
      "        \n",
      "  import pandas as pd\n"
     ]
    }
   ],
   "source": [
    "import pandas as pd\n",
    "import numpy as np\n",
    "\n",
    "cal_code = pd.read_csv('/home/mettalbi/projects/smash-maintenance-1.0.x/smash/factory/dataset/Ardeche/cal_code.csv')\n",
    "val_code = pd.read_csv('/home/mettalbi/projects/smash-maintenance-1.0.x/smash/factory/dataset/Ardeche/val_code.csv')\n",
    "\n",
    "\n",
    "all_codes = np.append(cal_code.cal.values, val_code.val.values)\n",
    "\n",
    "ungauged_codes = ['K0403010', 'K0454010', 'V3744010', 'V5014010', 'K2090810', 'V3524010']\n",
    "gauged_codes = all_codes[~np.isin(all_codes, ungauged_codes)]\n",
    "\n",
    "new_val_code = pd.DataFrame( ungauged_codes, columns=['val'])\n",
    "new_cal_code = pd.DataFrame( gauged_codes, columns=['cal'])\n",
    "\n",
    "new_cal_code.to_csv('/home/mettalbi/projects/smash-maintenance-1.0.x/smash/factory/dataset/Ardeche/cal_code_amont.csv', index=False)\n",
    "new_val_code.to_csv('/home/mettalbi/projects/smash-maintenance-1.0.x/smash/factory/dataset/Ardeche/val_code_amont.csv', index=False)"
   ]
  },
  {
   "cell_type": "code",
   "execution_count": 2,
   "metadata": {},
   "outputs": [],
   "source": [
    "import pandas as pd\n",
    "\n",
    "ungauged_codes = ['K201082001', 'O146401001', 'O163401001', 'O331401002', 'V352401001', 'V427501001', 'V430000101', 'V441401001', 'V445501001', 'V712401501', 'X211401001', 'X230501001',\n",
    "                  'X241403001', 'Y000401001', 'Y002501001', 'Y004501001', 'Y010522001', 'Y032501001', 'Y082401001', 'Y143541001', 'Y144501001', 'Y221001001', ' Y314001001', 'Y331001001', 'Y341400501',\n",
    "                  'Y343501501', 'Y421404001', 'Y422561001', 'Y510501001', 'Y511502002', 'Y521502001', 'Y521502002', 'Y523501001', 'Y532501001', 'Y532501002', 'Y550541001', 'Y622401001'] \n",
    "\n",
    "aval_codes = ['K003002010', 'V417402101', 'V426401001', 'V426401002', 'V505401001', 'V532401001', 'V547401501', 'V620201001', 'V713501001', 'V715501001', 'X045401001', 'Y028406001', 'Y047403001', 'Y067406001',\n",
    "              'Y123201002', 'Y136401001', 'Y156401001', 'Y141502001', 'Y160505001', 'Y214001002', 'Y258001002', 'Y320002001', 'Y353401001', 'Y412202002', 'Y442404001', 'Y462401001', 'Y553403001', 'Y561503001',\n",
    "              'Y612501201', 'Y643401001'] \n",
    "\n",
    "amont_codes = ['K001002010', 'V414521001', 'V422602001', 'V500403001', 'V503502201', 'V504881301', 'V532401002', 'V541000401', 'V544502001', 'V612501001', 'V615502001', 'V615502002', 'V713501701', 'V715503501',\n",
    "               'X043401001', 'Y020401001', 'Y024521001', 'Y026401001', 'Y040401001', 'Y046600501', 'Y062402001', 'Y062522001', 'Y065502001', 'Y110501001', 'Y113501001', 'Y114115001', 'Y120501001', 'Y122501001',\n",
    "               'Y131401001', 'Y134501001', 'Y134501201', 'Y135521001', 'Y141501001', 'Y141501002', 'Y152401001', 'Y160504001', 'Y201002001', 'Y250003001', 'Y252002001', 'Y254002001', 'Y256002001', 'Y320001001',\n",
    "               'Y351402001', 'Y402201001', 'Y411502001', 'Y442501001', 'Y441401501', 'Y460402001', 'Y461502701', 'Y461502702', 'Y551404001', 'Y553541001', 'Y561501001', 'Y604201001', 'Y642401001'] \n",
    "\n",
    "amont_aval_codes = ['V422501001', 'V501404001', 'V501403001', 'V501401001', 'V542401001', 'V546401501', 'Y023401001', 'Y024401001', 'Y024404001', 'Y027401001', 'Y042401001', 'Y043642001', 'Y043402001', 'Y044401001', \n",
    "                    'Y046403001', 'Y046403002', 'Y062402002', 'Y063403001', 'Y063403002', 'Y065501001', 'Y066404001', 'Y111201001', 'Y111201002', 'Y114115101', 'Y123201001', 'Y132501001', 'Y136402001', 'Y152402001',\n",
    "                    'Y203002001', 'Y203002002', 'Y210002001', 'Y214001001', 'Y251002001', 'Y251003001', 'Y254002002', 'Y254002004', 'Y255001002', 'Y257001001', 'Y257002001', 'Y352501101', 'Y412204001', 'Y441403001', \n",
    "                    'Y461502001'] "
   ]
  },
  {
   "cell_type": "code",
   "execution_count": 27,
   "metadata": {},
   "outputs": [],
   "source": [
    "import pandas as pd\n",
    "\n",
    "\n",
    "ungauged_codes_df = pd.DataFrame()\n",
    "ungauged_codes_df['codes'] = ['K201082001', 'O146401001', 'O163401001', 'O331401002', 'V352401001', 'V427501001', 'V430000101', 'V441401001', 'V445501001', 'V712401501', 'X211401001', 'X230501001',\n",
    "                  'X241403001', 'Y000401001', 'Y002501001', 'Y004501001', 'Y010522001', 'Y032501001', 'Y082401001', 'Y143541001', 'Y144501001', 'Y221001001', 'Y314001001', 'Y331001001', 'Y341400501',\n",
    "                  'Y343501501', 'Y421404001', 'Y422561001', 'Y510501001', 'Y511502002', 'Y521502001', 'Y521502002', 'Y523501001', 'Y532501001', 'Y532501002', 'Y550541001', 'Y622401001'] \n",
    "ungauged_codes_df['label'] = 'independent_codes'\n",
    "\n",
    "aval_codes_df = pd.DataFrame()\n",
    "aval_codes_df['codes'] = ['K003002010', 'V417402101', 'V426401001', 'V426401002', 'V505401001', 'V532401001', 'V547401501', 'V620201001', 'V713501001', 'V715501001', 'X045401001', 'Y028406001', 'Y047403001', 'Y067406001',\n",
    "              'Y123201002', 'Y136401001', 'Y156401001', 'Y141502001', 'Y160505001', 'Y214001002', 'Y258001002', 'Y320002001', 'Y353401001', 'Y412202002', 'Y442404001', 'Y462401001', 'Y553403001', 'Y561503001',\n",
    "              'Y612501201', 'Y643401001']\n",
    "aval_codes_df['label'] = 'aval_codes'\n",
    "\n",
    "amont_codes_df = pd.DataFrame()\n",
    "amont_codes_df['codes'] = ['K001002010', 'V414521001', 'V422602001', 'V500403001', 'V503502201', 'V504881301', 'V532401002', 'V541000401', 'V544502001', 'V612501001', 'V615502001', 'V615502002', 'V713501701', 'V715503501',\n",
    "               'X043401001', 'Y020401001', 'Y024521001', 'Y026401001', 'Y040401001', 'Y046600501', 'Y062402001', 'Y062522001', 'Y065502001', 'Y110501001', 'Y113501001', 'Y114115001', 'Y120501001', 'Y122501001',\n",
    "               'Y131401001', 'Y134501001', 'Y134501201', 'Y135521001', 'Y141501001', 'Y141501002', 'Y152401001', 'Y160504001', 'Y201002001', 'Y250003001', 'Y252002001', 'Y254002001', 'Y256002001', 'Y320001001',\n",
    "               'Y351402001', 'Y402201001', 'Y411502001', 'Y442501001', 'Y441401501', 'Y460402001', 'Y461502701', 'Y461502702', 'Y551404001', 'Y553541001', 'Y561501001', 'Y604201001', 'Y642401001']\n",
    "amont_codes_df['label'] = 'amont_codes'\n",
    "\n",
    "\n",
    "amont_aval_codes_df = pd.DataFrame()\n",
    "amont_aval_codes_df['codes'] = ['V422501001', 'V501404001', 'V501403001', 'V501401001', 'V542401001', 'V546401501', 'Y023401001', 'Y024401001', 'Y024404001', 'Y027401001', 'Y042401001', 'Y043642001', 'Y043402001', 'Y044401001', \n",
    "                    'Y046403001', 'Y046403002', 'Y062402002', 'Y063403001', 'Y063403002', 'Y065501001', 'Y066404001', 'Y111201001', 'Y111201002', 'Y114115101', 'Y123201001', 'Y132501001', 'Y136402001', 'Y152402001',\n",
    "                    'Y203002001', 'Y203002002', 'Y210002001', 'Y214001001', 'Y251002001', 'Y251003001', 'Y254002002', 'Y254002004', 'Y255001002', 'Y257001001', 'Y257002001', 'Y352501101', 'Y412204001', 'Y441403001', \n",
    "                    'Y461502001']\n",
    "amont_aval_codes_df['label'] = 'amont_aval_codes'\n"
   ]
  },
  {
   "cell_type": "code",
   "execution_count": 28,
   "metadata": {},
   "outputs": [],
   "source": [
    "df = pd.concat([ungauged_codes_df, aval_codes_df, amont_codes_df, amont_aval_codes_df])"
   ]
  },
  {
   "cell_type": "code",
   "execution_count": 30,
   "metadata": {},
   "outputs": [],
   "source": [
    "df.to_csv('/home/mettalbi/Bureau/Maps/regio_arcmed/codes.csv', index=False)"
   ]
  }
 ],
 "metadata": {
  "kernelspec": {
   "display_name": "smash-dev",
   "language": "python",
   "name": "python3"
  },
  "language_info": {
   "codemirror_mode": {
    "name": "ipython",
    "version": 3
   },
   "file_extension": ".py",
   "mimetype": "text/x-python",
   "name": "python",
   "nbconvert_exporter": "python",
   "pygments_lexer": "ipython3",
   "version": "3.11.7"
  }
 },
 "nbformat": 4,
 "nbformat_minor": 2
}
