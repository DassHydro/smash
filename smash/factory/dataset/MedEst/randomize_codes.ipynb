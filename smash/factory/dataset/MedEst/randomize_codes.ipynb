{
 "cells": [
  {
   "cell_type": "code",
   "execution_count": 45,
   "metadata": {},
   "outputs": [],
   "source": [
    "import pandas as pd\n",
    "import numpy as np\n",
    "\n",
    "cal_code = pd.read_csv('/home/mettalbi/projects/smash-maintenance-1.0.x/smash/factory/dataset/MedEst/cal_code.csv')\n",
    "val_code = pd.read_csv('/home/mettalbi/projects/smash-maintenance-1.0.x/smash/factory/dataset/MedEst/val_code.csv')\n",
    "\n",
    "\n",
    "all_codes = np.append(cal_code.cal.values, val_code.val.values)\n",
    "\n",
    "np.random.shuffle(all_codes)\n",
    "\n",
    "new_cal_code = pd.DataFrame( all_codes[:9], columns=['cal'])\n",
    "new_val_code = pd.DataFrame( all_codes[9:], columns=['val'])\n",
    "\n",
    "# new_cal_code.to_csv('/home/mettalbi/projects/smash-maintenance-1.0.x/smash/factory/dataset/MedEst/cal_code_2.csv', index=False)\n",
    "# new_val_code.to_csv('/home/mettalbi/projects/smash-maintenance-1.0.x/smash/factory/dataset/MedEst/val_code_2.csv', index=False)"
   ]
  },
  {
   "cell_type": "code",
   "execution_count": 7,
   "metadata": {},
   "outputs": [],
   "source": [
    "import pandas as pd\n",
    "import numpy as np\n",
    "\n",
    "cal_code = pd.read_csv('/home/mettalbi/projects/smash-maintenance-1.0.x/smash/factory/dataset/MedEst/cal_code.csv')\n",
    "val_code = pd.read_csv('/home/mettalbi/projects/smash-maintenance-1.0.x/smash/factory/dataset/MedEst/val_code.csv')\n",
    "\n",
    "\n",
    "all_codes = np.append(cal_code.cal.values, val_code.val.values)\n",
    "\n",
    "ungauged_codes = ['Y5424010', 'Y5325010', 'Y5435010', 'Y5615010', 'Y5615030']\n",
    "gauged_codes = all_codes[~np.isin(all_codes, ungauged_codes)]\n",
    "\n",
    "new_val_code = pd.DataFrame( ungauged_codes, columns=['val'])\n",
    "new_cal_code = pd.DataFrame( gauged_codes, columns=['cal'])\n",
    "\n",
    "new_cal_code.to_csv('/home/mettalbi/projects/smash-maintenance-1.0.x/smash/factory/dataset/MedEst/cal_code_real_ungauged.csv', index=False)\n",
    "new_val_code.to_csv('/home/mettalbi/projects/smash-maintenance-1.0.x/smash/factory/dataset/MedEst/val_code_real_ungauged.csv', index=False)"
   ]
  },
  {
   "cell_type": "code",
   "execution_count": null,
   "metadata": {},
   "outputs": [],
   "source": [
    "import pandas as pd\n",
    "import numpy as np\n",
    "\n",
    "cal_code = pd.read_csv('/home/mettalbi/projects/smash-maintenance-1.0.x/smash/factory/dataset/MedEst/cal_code.csv')\n",
    "val_code = pd.read_csv('/home/mettalbi/projects/smash-maintenance-1.0.x/smash/factory/dataset/MedEst/val_code.csv')\n",
    "\n",
    "\n",
    "all_codes = np.append(cal_code.cal.values, val_code.val.values)\n",
    "\n",
    "ungauged_codes = ['Y6434010', 'Y5615030', 'Y5112010', 'Y5202010', 'Y4624010']\n",
    "gauged_codes = all_codes[~np.isin(all_codes, ungauged_codes)]\n",
    "\n",
    "new_val_code = pd.DataFrame( ungauged_codes, columns=['val'])\n",
    "new_cal_code = pd.DataFrame( gauged_codes, columns=['cal'])\n",
    "\n",
    "new_cal_code.to_csv('/home/mettalbi/projects/smash-maintenance-1.0.x/smash/factory/dataset/MedEst/cal_code_amont.csv', index=False)\n",
    "new_val_code.to_csv('/home/mettalbi/projects/smash-maintenance-1.0.x/smash/factory/dataset/MedEst/val_code_amont.csv', index=False)"
   ]
  }
 ],
 "metadata": {
  "kernelspec": {
   "display_name": "smash-dev",
   "language": "python",
   "name": "python3"
  },
  "language_info": {
   "codemirror_mode": {
    "name": "ipython",
    "version": 3
   },
   "file_extension": ".py",
   "mimetype": "text/x-python",
   "name": "python",
   "nbconvert_exporter": "python",
   "pygments_lexer": "ipython3",
   "version": "3.11.7"
  }
 },
 "nbformat": 4,
 "nbformat_minor": 2
}
